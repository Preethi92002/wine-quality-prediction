{
 "cells": [
  {
   "cell_type": "markdown",
   "id": "0bf1bc84",
   "metadata": {},
   "source": [
    "# Wine Quality Prediction"
   ]
  },
  {
   "cell_type": "code",
   "execution_count": 19,
   "id": "e86fea2b",
   "metadata": {},
   "outputs": [
    {
     "name": "stdout",
     "output_type": "stream",
     "text": [
      "Mean Squared Error: 0.3900251439639543\n",
      "R-squared: 0.40318034127962277\n",
      "Predicted Quality: [5.24104018]\n"
     ]
    }
   ],
   "source": [
    "import numpy as np\n",
    "import pandas as pd\n",
    "from sklearn.model_selection import train_test_split\n",
    "from sklearn.linear_model import LinearRegression\n",
    "from sklearn.metrics import mean_squared_error, r2_score\n",
    "\n",
    "# Load the dataset\n",
    "data = pd.read_csv('winequality-red.csv')\n",
    "\n",
    "# Separate features (X) and target (y)\n",
    "X = data.drop('quality', axis=1)\n",
    "y = data['quality']\n",
    "\n",
    "# Split the data into training and testing sets\n",
    "X_train, X_test, y_train, y_test = train_test_split(X, y, test_size=0.2, random_state=42)\n",
    "\n",
    "# Create a linear regression model\n",
    "model = LinearRegression()\n",
    "\n",
    "# Train the model on the training data\n",
    "model.fit(X_train, y_train)\n",
    "\n",
    "# Make predictions on the test data\n",
    "y_pred = model.predict(X_test)\n",
    "\n",
    "# Calculate metrics\n",
    "mse = mean_squared_error(y_test, y_pred)\n",
    "r2 = r2_score(y_test, y_pred)\n",
    "\n",
    "print(f\"Mean Squared Error: {mse}\")\n",
    "print(f\"R-squared: {r2}\")\n",
    "\n",
    "# Suppose you want to predict the quality for a new wine with given features\n",
    "new_wine_features = pd.DataFrame({\n",
    "    'fixed acidity': [7.0],\n",
    "    'volatile acidity': [0.6],\n",
    "    'citric acid': [0.2],\n",
    "    'residual sugar': [1.8],\n",
    "    'chlorides': [0.075],\n",
    "    'free sulfur dioxide': [32],\n",
    "    'total sulfur dioxide': [100],\n",
    "    'density': [0.9978],\n",
    "    'pH': [3.2],\n",
    "    'sulphates': [0.68],\n",
    "    'alcohol': [9.5]\n",
    "})\n",
    "\n",
    "predicted_quality = model.predict(new_wine_features)\n",
    "print(f\"Predicted Quality: {predicted_quality}\")\n"
   ]
  },
  {
   "cell_type": "code",
   "execution_count": null,
   "id": "a436d7de",
   "metadata": {},
   "outputs": [],
   "source": []
  }
 ],
 "metadata": {
  "kernelspec": {
   "display_name": "Python 3 (ipykernel)",
   "language": "python",
   "name": "python3"
  },
  "language_info": {
   "codemirror_mode": {
    "name": "ipython",
    "version": 3
   },
   "file_extension": ".py",
   "mimetype": "text/x-python",
   "name": "python",
   "nbconvert_exporter": "python",
   "pygments_lexer": "ipython3",
   "version": "3.9.13"
  }
 },
 "nbformat": 4,
 "nbformat_minor": 5
}
